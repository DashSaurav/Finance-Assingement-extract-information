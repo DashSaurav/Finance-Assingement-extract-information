{
 "cells": [
  {
   "cell_type": "code",
   "execution_count": null,
   "metadata": {},
   "outputs": [],
   "source": [
    "# IMPORTING NECESSARY LIBRARIES ,,, yahoo finance api is used fro fetching data. \n",
    "import yfinance as yf\n",
    "import pandas as pd"
   ]
  },
  {
   "cell_type": "code",
   "execution_count": null,
   "metadata": {
    "scrolled": true
   },
   "outputs": [],
   "source": [
    "# taking direct input from here and finding values in yahoo finance... \n",
    "data = yf.download(\"ACC ADANIPORTS.NS ADANIENT.NS ADANIPOWER.NS AMBUJACEM.NS APOLLOHOSP.NS ARVIND.NS ASIANPAINT.NS AUROPHARMA.NS BAJFINANCE.NS BALKRISIND.NS BANKBARODA.NS BANKINDIA.NS BERGEPAINT.NS BHEL.NS BAJAJFINSV.NS BOSCHLTD.NS CADILAHC.NS CENTURYTEX.NS CHOLAFIN.NS CUMMINSIND.NS DIVISLAB.NS DLF.NS ENGINERSIN.NS EQUITAS.NS ESCORTS.NS FEDERALBNK.NS GODREJCP.NS GRASIM.NS HAVELLS.NS HCLTECH.NS BSOFT.NS HDFCBANK.NS HEXAWARE.NS HINDPETRO.NS \tCANBK.NS     \tHINDZINC.NS  \tIDEA.NS      \tIDFCFIRSTB.NS\tCASTROLIND.NS\tINDIGO.NS    \tINDUSINDBK.NS\tINFY.NS      \tIOC.NS      \tDHFL.NS     \tITC.NS      \tJINDALSTEL.NS\tEICHERMOT.NS \tJSWSTEEL.NS \tJUBLFOOD.NS  \tJUSTDIAL.NS  \tKOTAKBANK.NS\tEXIDEIND.NS  \tL&TFH.NS     \tLUPIN.NS     \tM&M.NS       \tGLENMARK.NS  \tMARICO.NS    \tMCDOWELL-N.NS\tMCX.NS       \tMOTHERSUMI.NS\tMRF.NS       \tMUTHOOTFIN.NS\tNATIONALUM.NS\tNCC.NS      \tICICIPRULI.NS\tNESTLEIND.NS \tNTPC.NS      \tONGC.NS      \tPAGEIND.NS   \tINFRATEL.NS  \tPFC.NS      \tPIDILITIND.NS\tPNB.NS       \tRAMCOCEM.NS  \tRAYMOND.NS   \tRECLTD.NS\tRELCAPITAL.NS\tRELIANCE.NS  \tSAIL.NS      \tSIEMENS.NS   \tSRF.NS       \tSRTRANSFIN.NS\tSTAR.NS      \tTATAGLOBAL.NS\tTATAPOWER.NS \tTCS.NS       \tMGL.NS      \tTECHM.NS     \tMINDTREE.NS  \tTORNTPOWER.NS\tUBL.NS       \tUJJIVAN.NS   \tUNIONBANK.NS \tUPL.NS      \tVEDL.NS      \tVOLTAS.NS   \tWIPRO.NS     \tYESBANK.NS   \tAMARAJABAT.NS\tNIITTECH.NS  \tRELINFRA.NS  \tAPOLLOTYRE.NS\tAXISBANK.NS  \tTITAN.NS     \tASHOKLEY.NS  \tBAJAJ-AUTO.NS\tBATAINDIA.NS \tBEL.NS       \tBHARATFORG.NS\tBIOCON.NS    \tBPCL.NS      \tBRITANNIA.NS \tCESC.NS      \tCIPLA.NS     \tCOALINDIA.NS \tDABUR.NS     \tDISHTV.NS    \tGAIL.NS      \tGMRINFRA.NS  \tHDFC.NS      \tHEROMOTOCO.NS\tCONCOR.NS    \tHINDALCO.NS  \tDRREDDY.NS   \tHINDUNILVR.NS\tIBULHSGFIN.NS\tIDBI.NS      \tIGL.NS       \tMANAPPURAM.NS\tMFSL.NS      \tM&MFIN.NS    \tMARUTI.NS    \tOFSS.NS     \tNMDC.NS      \tOIL.NS       \tPOWERGRID.NS\tRBLBANK.NS   \tSHREECEM.NS  \tSUNPHARMA.NS\tTATASTEEL.NS \tTATAELXSI.NS\tTORNTPHARM.NS\tTVSMOTOR.NS  \tULTRACEMCO.NS\tZEEL.NS     \tCOLPAL.NS    \tICICIBANK.NS \tLICHSGFIN.NS \tSBIN.NS      \tBHARTIARTL.NS\tLT.NS       \tNBCC.NS      \tKAJARIACER.NS\tPEL.NS      \tPETRONET.NS  \tPVR.NS       \tTATACHEM.NS  \tTATAMOTORS.NS\tTATAMTRDVR.NS\tSUNTV.NS\", start=\"2021-06-4\", end=\"2021-10-07\")\n",
    "print(data.head())"
   ]
  },
  {
   "cell_type": "code",
   "execution_count": null,
   "metadata": {},
   "outputs": [],
   "source": [
    "# droping coloumns \n",
    "data = data.drop(['Open', 'High', 'Low', 'Adj Close', 'Volume'], axis=1)\n",
    "print(data.head())"
   ]
  },
  {
   "cell_type": "code",
   "execution_count": null,
   "metadata": {},
   "outputs": [],
   "source": [
    "# print this line if wants to save the output of the required csv file.\n",
    "data.to_csv('OUTPUT_FILE.csv')"
   ]
  }
 ],
 "metadata": {
  "kernelspec": {
   "display_name": "Python 3",
   "language": "python",
   "name": "python3"
  },
  "language_info": {
   "codemirror_mode": {
    "name": "ipython",
    "version": 3
   },
   "file_extension": ".py",
   "mimetype": "text/x-python",
   "name": "python",
   "nbconvert_exporter": "python",
   "pygments_lexer": "ipython3",
   "version": "3.7.4"
  }
 },
 "nbformat": 4,
 "nbformat_minor": 2
}
